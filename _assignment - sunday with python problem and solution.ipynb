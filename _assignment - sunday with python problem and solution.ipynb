{
 "cells": [
  {
   "cell_type": "markdown",
   "metadata": {},
   "source": [
    "# problem : 1\n",
    "create a program that asks the students the enter their name and their age.print out amessage addressed to them that\n",
    "tells them the year that they will turn 45 years old .\n"
   ]
  },
  {
   "cell_type": "code",
   "execution_count": 4,
   "metadata": {},
   "outputs": [
    {
     "name": "stdout",
     "output_type": "stream",
     "text": [
      "hello\n",
      "What is your name?rakshit\n",
      "How old are you?24\n",
      "what year is current?2019\n",
      "rakshit will be 45 years old in the year 2040\n"
     ]
    }
   ],
   "source": [
    "print('hello')\n",
    "Name = input('What is your name?')\n",
    "age = int(input('How old are you?'))\n",
    "Whatyear = int(input('what year is current?'))\n",
    "year = str((Whatyear-age)+45)\n",
    "print(Name +\" \"+'will be 45 years old in the year' +\" \" +year)"
   ]
  },
  {
   "cell_type": "markdown",
   "metadata": {},
   "source": [
    "# problem : 2\n",
    "create a program which will give user an output whether the number is even, or odd once user will enter the number as an \n",
    "input.at theend user should get an output saying ,\" the number is odd\" or \"the number is even\".\n"
   ]
  },
  {
   "cell_type": "code",
   "execution_count": 5,
   "metadata": {},
   "outputs": [
    {
     "name": "stdout",
     "output_type": "stream",
     "text": [
      "type a number:21\n",
      "This number is an odd number\n"
     ]
    }
   ],
   "source": [
    "enternum = int(input('type a number:'))\n",
    "y = enternum%2\n",
    "if y == int():\n",
    "    print('This number is an even number')\n",
    "else:\n",
    "    print('This number is an odd number')"
   ]
  },
  {
   "cell_type": "code",
   "execution_count": null,
   "metadata": {},
   "outputs": [],
   "source": [
    "# problem :3\n",
    "in a school for wrestling competion, coach asks the students of their weight and he wants only\n",
    "students whose weight is less than 50 kg. create a python list where we will store the weights \n",
    "of each students .we will have to create a code which will fetch out weights which are less than 50\n",
    "from that list."
   ]
  },
  {
   "cell_type": "code",
   "execution_count": 8,
   "metadata": {},
   "outputs": [
    {
     "name": "stdout",
     "output_type": "stream",
     "text": [
      "18\n",
      "22\n",
      "23\n",
      "45\n",
      "33\n",
      "48\n",
      "34\n",
      "[18, 22, 23, 45, 33, 48, 34]\n"
     ]
    }
   ],
   "source": [
    "weights_list = [18,22,23,45,65,66,58,76,55,85,78,33,48,34,67]\n",
    "weights_50_orless = []\n",
    "for i in weights_list:\n",
    "    if i < 50:\n",
    "        print(i)\n",
    "        weights_50_orless.append(i)\n",
    "print(weights_50_orless)"
   ]
  },
  {
   "cell_type": "code",
   "execution_count": null,
   "metadata": {},
   "outputs": [],
   "source": [
    "# problem:4  \n",
    "in class 9th students given a task of a number of their choice, and prints out a list of\n",
    "    all the factor of that particular number ."
   ]
  },
  {
   "cell_type": "code",
   "execution_count": 9,
   "metadata": {},
   "outputs": [
    {
     "name": "stdout",
     "output_type": "stream",
     "text": [
      "Type a number of your choice:624\n",
      "[1, 2, 3, 4, 6, 8, 12, 13, 16, 24, 26, 39, 48, 52, 78, 104, 156, 208, 312, 624]\n"
     ]
    }
   ],
   "source": [
    "select_num = int(input('Type a number of your choice:'))\n",
    "listrange = list(range(1,select_num +1))\n",
    "divisorlist = []\n",
    "for number in listrange:\n",
    "    if select_num % number ==0:\n",
    "        divisorlist.append(number)\n",
    "print(divisorlist)"
   ]
  },
  {
   "cell_type": "code",
   "execution_count": null,
   "metadata": {},
   "outputs": [],
   "source": [
    "# problem :5\n",
    "In a university a professor of computer science department asks the students their age, There are two departsments\n",
    "and in both sections in the department and in both section different number are students are there . the task is to create\n",
    "a list of age of students for both departments separately and they have to create a programs that returns the common \n",
    "age between those list without duplication ."
   ]
  },
  {
   "cell_type": "code",
   "execution_count": 10,
   "metadata": {},
   "outputs": [],
   "source": [
    "section1 = [23,22,24,25,26,22,23,24,28,31,27,23,24,29,43,43]\n",
    "section2 = [22,25,32,34,33,31,28,27,36,29,22,23,24,22,25,28]"
   ]
  },
  {
   "cell_type": "code",
   "execution_count": 12,
   "metadata": {},
   "outputs": [
    {
     "name": "stdout",
     "output_type": "stream",
     "text": [
      "[23, 22, 24, 25, 28, 31, 27, 29]\n"
     ]
    }
   ],
   "source": [
    "common_ages = []\n",
    "for item in section1:\n",
    "    if item in section2:\n",
    "        if item not in common_ages:\n",
    "            common_ages.append(item)\n",
    "print(common_ages)            "
   ]
  },
  {
   "cell_type": "code",
   "execution_count": null,
   "metadata": {},
   "outputs": [],
   "source": [
    "# problem :6\n",
    "In the 9th class,english teacher gives a list of words and ask students to check whether the given\n",
    "list of words is apalindrome or not .write python code to solve this problem"
   ]
  },
  {
   "cell_type": "code",
   "execution_count": 15,
   "metadata": {},
   "outputs": [
    {
     "name": "stdout",
     "output_type": "stream",
     "text": [
      "type a word:rakshit\n",
      "No it is not palindrome\n"
     ]
    }
   ],
   "source": [
    "user_input = input('type a word:')\n",
    "if user_input == user_input[::-1]:\n",
    "    print('yes it is palindrome')\n",
    "else:\n",
    "    print('No it is not palindrome')"
   ]
  },
  {
   "cell_type": "code",
   "execution_count": 16,
   "metadata": {},
   "outputs": [
    {
     "name": "stdout",
     "output_type": "stream",
     "text": [
      "type a word:madam\n",
      "yes it is palindrome\n"
     ]
    }
   ],
   "source": [
    "user_input = input('type a word:')\n",
    "if user_input == user_input[::-1]:\n",
    "    print('yes it is palindrome')\n",
    "else:\n",
    "    print('No it is not palindrome')"
   ]
  },
  {
   "cell_type": "code",
   "execution_count": null,
   "metadata": {},
   "outputs": [],
   "source": [
    "# problem :7\n",
    "in a locality , there are somehouses, and each house,there are some members, we have a list of the\n",
    "sum of ages of all members of every house, so how to find an even number of sum of ages."
   ]
  },
  {
   "cell_type": "code",
   "execution_count": 18,
   "metadata": {},
   "outputs": [
    {
     "name": "stdout",
     "output_type": "stream",
     "text": [
      "[46, 70, 64, 58, 60, 9150, 100, 130, 154]\n"
     ]
    }
   ],
   "source": [
    "list_ages = [51,46,70,64,58,60,9150,100,130,154]\n",
    "for i in list_ages:\n",
    "    if i%2 !=0:\n",
    "        list_ages.remove(i)\n",
    "print(list_ages)\n",
    "        "
   ]
  },
  {
   "cell_type": "code",
   "execution_count": null,
   "metadata": {},
   "outputs": [],
   "source": [
    "# problem :8\n",
    "in an iQ test,the  mentor asks the students to think arandom number between 2 and 12( including 2 and 12)\n",
    "and then he will guess the number then students will check whether the guessed  number is low ,high or right."
   ]
  },
  {
   "cell_type": "code",
   "execution_count": 22,
   "metadata": {},
   "outputs": [
    {
     "name": "stdout",
     "output_type": "stream",
     "text": [
      "guess the number between 2 and 12:5\n",
      "your guessed is too low\n",
      "guess the number between 2 and 12:6\n",
      "your guessed is too low\n",
      "guess the number between 2 and 12:8\n",
      "your guessed is too high\n",
      "if you want to continue?(Y/N)Y\n",
      "guess the number between 2 and 12:7\n",
      "you guessed right\n"
     ]
    }
   ],
   "source": [
    "from random import randint\n",
    "rand = randint(2,12)\n",
    "while True:\n",
    "    guess = int(input('guess the number between 2 and 12:'))\n",
    "    if guess== rand:\n",
    "        print('you guessed right')\n",
    "        break\n",
    "    else:\n",
    "        if guess < rand:\n",
    "            print('your guessed is too low')\n",
    "        elif guess > rand:\n",
    "                print('your guessed is too high')\n",
    "                \n",
    "                y = input ('if you want to continue?(Y/N)').upper()\n",
    "                if y=='N':\n",
    "                    print(rand)\n",
    "                    break"
   ]
  },
  {
   "cell_type": "code",
   "execution_count": null,
   "metadata": {},
   "outputs": [],
   "source": [
    "# problem:9\n",
    "In a unversity , there are various classes , and, in each class, there are different number of students, we have to\n",
    "create a program which will help us to find that in which class there is a prime number students."
   ]
  },
  {
   "cell_type": "code",
   "execution_count": 26,
   "metadata": {},
   "outputs": [
    {
     "name": "stdout",
     "output_type": "stream",
     "text": [
      "insert a number :3\n",
      "its a prime number\n"
     ]
    }
   ],
   "source": [
    "num = int(input('insert a number :'))\n",
    "x = [y for y in range (2,num) if num%y==0]\n",
    "\n",
    "def is_prime(n):\n",
    "    if num>1:\n",
    "        if len(x)==0:\n",
    "            print('its a prime number')\n",
    "        else:\n",
    "            print('its not a prime number')\n",
    "    else:\n",
    "        print('not a prime number')\n",
    "is_prime(num)                    \n",
    "     "
   ]
  },
  {
   "cell_type": "code",
   "execution_count": null,
   "metadata": {},
   "outputs": [],
   "source": [
    "# problem : 10\n",
    "we have a list of random number, create a program that will first sort the list in increasing order and then finds the first\n",
    "and last number ."
   ]
  },
  {
   "cell_type": "code",
   "execution_count": 27,
   "metadata": {},
   "outputs": [],
   "source": [
    "import random\n",
    "x = random.sample(range(60),9)"
   ]
  },
  {
   "cell_type": "code",
   "execution_count": 28,
   "metadata": {},
   "outputs": [
    {
     "data": {
      "text/plain": [
       "[53, 27, 15, 55, 50, 35, 34, 12, 7]"
      ]
     },
     "execution_count": 28,
     "metadata": {},
     "output_type": "execute_result"
    }
   ],
   "source": [
    "x"
   ]
  },
  {
   "cell_type": "code",
   "execution_count": 29,
   "metadata": {},
   "outputs": [],
   "source": [
    "x.sort()"
   ]
  },
  {
   "cell_type": "code",
   "execution_count": 30,
   "metadata": {},
   "outputs": [
    {
     "data": {
      "text/plain": [
       "[7, 12, 15, 27, 34, 35, 50, 53, 55]"
      ]
     },
     "execution_count": 30,
     "metadata": {},
     "output_type": "execute_result"
    }
   ],
   "source": [
    "x"
   ]
  },
  {
   "cell_type": "code",
   "execution_count": 31,
   "metadata": {},
   "outputs": [
    {
     "name": "stdout",
     "output_type": "stream",
     "text": [
      "[7, 55]\n"
     ]
    }
   ],
   "source": [
    "y = [i for i in x[0::len(x)-1]]\n",
    "print(y)"
   ]
  },
  {
   "cell_type": "code",
   "execution_count": null,
   "metadata": {},
   "outputs": [],
   "source": []
  }
 ],
 "metadata": {
  "kernelspec": {
   "display_name": "Python 3",
   "language": "python",
   "name": "python3"
  },
  "language_info": {
   "codemirror_mode": {
    "name": "ipython",
    "version": 3
   },
   "file_extension": ".py",
   "mimetype": "text/x-python",
   "name": "python",
   "nbconvert_exporter": "python",
   "pygments_lexer": "ipython3",
   "version": "3.7.3"
  }
 },
 "nbformat": 4,
 "nbformat_minor": 2
}
